{
 "cells": [
  {
   "cell_type": "markdown",
   "metadata": {},
   "source": [
    "## 例2-2. Yelp データセット内の店舗に対するレビュー件数の可視化"
   ]
  },
  {
   "cell_type": "code",
   "execution_count": 7,
   "metadata": {},
   "outputs": [
    {
     "data": {
      "text/html": [
       "<div>\n",
       "<style scoped>\n",
       "    .dataframe tbody tr th:only-of-type {\n",
       "        vertical-align: middle;\n",
       "    }\n",
       "\n",
       "    .dataframe tbody tr th {\n",
       "        vertical-align: top;\n",
       "    }\n",
       "\n",
       "    .dataframe thead th {\n",
       "        text-align: right;\n",
       "    }\n",
       "</style>\n",
       "<table border=\"1\" class=\"dataframe\">\n",
       "  <thead>\n",
       "    <tr style=\"text-align: right;\">\n",
       "      <th></th>\n",
       "      <th>business_id</th>\n",
       "      <th>categories</th>\n",
       "      <th>city</th>\n",
       "      <th>full_address</th>\n",
       "      <th>latitude</th>\n",
       "      <th>longitude</th>\n",
       "      <th>name</th>\n",
       "      <th>neighborhoods</th>\n",
       "      <th>open</th>\n",
       "      <th>review_count</th>\n",
       "      <th>stars</th>\n",
       "      <th>state</th>\n",
       "      <th>type</th>\n",
       "    </tr>\n",
       "  </thead>\n",
       "  <tbody>\n",
       "    <tr>\n",
       "      <th>0</th>\n",
       "      <td>rncjoVoEFUJGCUoC1JgnUA</td>\n",
       "      <td>[Accountants, Professional Services, Tax Servi...</td>\n",
       "      <td>Peoria</td>\n",
       "      <td>8466 W Peoria Ave\\nSte 6\\nPeoria, AZ 85345</td>\n",
       "      <td>33.581867</td>\n",
       "      <td>-112.241596</td>\n",
       "      <td>Peoria Income Tax Service</td>\n",
       "      <td>[]</td>\n",
       "      <td>True</td>\n",
       "      <td>3</td>\n",
       "      <td>5.0</td>\n",
       "      <td>AZ</td>\n",
       "      <td>business</td>\n",
       "    </tr>\n",
       "    <tr>\n",
       "      <th>1</th>\n",
       "      <td>0FNFSzCFP_rGUoJx8W7tJg</td>\n",
       "      <td>[Sporting Goods, Bikes, Shopping]</td>\n",
       "      <td>Phoenix</td>\n",
       "      <td>2149 W Wood Dr\\nPhoenix, AZ 85029</td>\n",
       "      <td>33.604054</td>\n",
       "      <td>-112.105933</td>\n",
       "      <td>Bike Doctor</td>\n",
       "      <td>[]</td>\n",
       "      <td>True</td>\n",
       "      <td>5</td>\n",
       "      <td>5.0</td>\n",
       "      <td>AZ</td>\n",
       "      <td>business</td>\n",
       "    </tr>\n",
       "    <tr>\n",
       "      <th>2</th>\n",
       "      <td>3f_lyB6vFK48ukH6ScvLHg</td>\n",
       "      <td>[]</td>\n",
       "      <td>Phoenix</td>\n",
       "      <td>1134 N Central Ave\\nPhoenix, AZ 85004</td>\n",
       "      <td>33.460526</td>\n",
       "      <td>-112.073933</td>\n",
       "      <td>Valley Permaculture Alliance</td>\n",
       "      <td>[]</td>\n",
       "      <td>True</td>\n",
       "      <td>4</td>\n",
       "      <td>5.0</td>\n",
       "      <td>AZ</td>\n",
       "      <td>business</td>\n",
       "    </tr>\n",
       "    <tr>\n",
       "      <th>3</th>\n",
       "      <td>usAsSV36QmUej8--yvN-dg</td>\n",
       "      <td>[Food, Grocery]</td>\n",
       "      <td>Phoenix</td>\n",
       "      <td>845 W Southern Ave\\nPhoenix, AZ 85041</td>\n",
       "      <td>33.392210</td>\n",
       "      <td>-112.085377</td>\n",
       "      <td>Food City</td>\n",
       "      <td>[]</td>\n",
       "      <td>True</td>\n",
       "      <td>5</td>\n",
       "      <td>3.5</td>\n",
       "      <td>AZ</td>\n",
       "      <td>business</td>\n",
       "    </tr>\n",
       "    <tr>\n",
       "      <th>4</th>\n",
       "      <td>PzOqRohWw7F7YEPBz6AubA</td>\n",
       "      <td>[Food, Bagels, Delis, Restaurants]</td>\n",
       "      <td>Glendale Az</td>\n",
       "      <td>6520 W Happy Valley Rd\\nSte 101\\nGlendale Az, ...</td>\n",
       "      <td>33.712797</td>\n",
       "      <td>-112.200264</td>\n",
       "      <td>Hot Bagels &amp; Deli</td>\n",
       "      <td>[]</td>\n",
       "      <td>True</td>\n",
       "      <td>14</td>\n",
       "      <td>3.5</td>\n",
       "      <td>AZ</td>\n",
       "      <td>business</td>\n",
       "    </tr>\n",
       "  </tbody>\n",
       "</table>\n",
       "</div>"
      ],
      "text/plain": [
       "              business_id                                         categories  \\\n",
       "0  rncjoVoEFUJGCUoC1JgnUA  [Accountants, Professional Services, Tax Servi...   \n",
       "1  0FNFSzCFP_rGUoJx8W7tJg                  [Sporting Goods, Bikes, Shopping]   \n",
       "2  3f_lyB6vFK48ukH6ScvLHg                                                 []   \n",
       "3  usAsSV36QmUej8--yvN-dg                                    [Food, Grocery]   \n",
       "4  PzOqRohWw7F7YEPBz6AubA                 [Food, Bagels, Delis, Restaurants]   \n",
       "\n",
       "          city                                       full_address   latitude  \\\n",
       "0       Peoria         8466 W Peoria Ave\\nSte 6\\nPeoria, AZ 85345  33.581867   \n",
       "1      Phoenix                  2149 W Wood Dr\\nPhoenix, AZ 85029  33.604054   \n",
       "2      Phoenix              1134 N Central Ave\\nPhoenix, AZ 85004  33.460526   \n",
       "3      Phoenix              845 W Southern Ave\\nPhoenix, AZ 85041  33.392210   \n",
       "4  Glendale Az  6520 W Happy Valley Rd\\nSte 101\\nGlendale Az, ...  33.712797   \n",
       "\n",
       "    longitude                          name neighborhoods  open  review_count  \\\n",
       "0 -112.241596     Peoria Income Tax Service            []  True             3   \n",
       "1 -112.105933                   Bike Doctor            []  True             5   \n",
       "2 -112.073933  Valley Permaculture Alliance            []  True             4   \n",
       "3 -112.085377                     Food City            []  True             5   \n",
       "4 -112.200264             Hot Bagels & Deli            []  True            14   \n",
       "\n",
       "   stars state      type  \n",
       "0    5.0    AZ  business  \n",
       "1    5.0    AZ  business  \n",
       "2    5.0    AZ  business  \n",
       "3    3.5    AZ  business  \n",
       "4    3.5    AZ  business  "
      ]
     },
     "execution_count": 7,
     "metadata": {},
     "output_type": "execute_result"
    }
   ],
   "source": [
    "import pandas as pd\n",
    "import json\n",
    "\n",
    "# 店舗についてのデータを読み込む\n",
    "with open('data/yelp/yelp_academic_dataset_business.json') as biz_file:\n",
    "    biz_df = pd.DataFrame([json.loads(x) for x in biz_file.readlines()])\n",
    "\n",
    "biz_df.head()"
   ]
  },
  {
   "cell_type": "code",
   "execution_count": 8,
   "metadata": {},
   "outputs": [
    {
     "data": {
      "text/plain": [
       "Text(0, 0.5, 'Occurrence')"
      ]
     },
     "execution_count": 8,
     "metadata": {},
     "output_type": "execute_result"
    },
    {
     "data": {
      "image/png": "[encoded data removed]",
      "text/plain": [
       "<Figure size 432x288 with 1 Axes>"
      ]
     },
     "metadata": {},
     "output_type": "display_data"
    }
   ],
   "source": [
    "%matplotlib inline\n",
    "import matplotlib.pyplot as plt\n",
    "import seaborn as sns\n",
    "\n",
    "# レビュー件数のヒストグラムを描画\n",
    "sns.set_style(\"whitegrid\")\n",
    "fig, ax = plt.subplots()\n",
    "biz_df[\"review_count\"].hist(ax=ax, bins=100)\n",
    "ax.set_yscale(\"log\")\n",
    "ax.tick_params(labelsize=14)\n",
    "ax.set_xlabel('Review Count', fontsize=14)\n",
    "ax.set_ylabel('Occurrence', fontsize=14)"
   ]
  },
  {
   "cell_type": "markdown",
   "metadata": {},
   "source": [
    "## 例 2-3. 固定幅によるカウントの離散化"
   ]
  },
  {
   "cell_type": "code",
   "execution_count": 9,
   "metadata": {},
   "outputs": [
    {
     "data": {
      "text/plain": [
       "array([37, 12, 72,  9, 75,  5, 79, 64, 16,  1, 76, 71,  6, 25, 50, 20, 18,\n",
       "       84, 11, 28])"
      ]
     },
     "execution_count": 9,
     "metadata": {},
     "output_type": "execute_result"
    }
   ],
   "source": [
    "import numpy as np\n",
    "\n",
    "np.random.seed(seed=1)\n",
    "\n",
    "# 0から99までの整数を一様分布からランダムに20個生成する\n",
    "small_counts = np.random.randint(0, 100, 20)\n",
    "\n",
    "small_counts"
   ]
  },
  {
   "cell_type": "code",
   "execution_count": 10,
   "metadata": {},
   "outputs": [
    {
     "data": {
      "text/plain": [
       "array([3, 1, 7, 0, 7, 0, 7, 6, 1, 0, 7, 7, 0, 2, 5, 2, 1, 8, 1, 2])"
      ]
     },
     "execution_count": 10,
     "metadata": {},
     "output_type": "execute_result"
    }
   ],
   "source": [
    "# 除算により 0-9 までの階級を割り当てる\n",
    "np.floor_divide(small_counts, 10)"
   ]
  },
  {
   "cell_type": "code",
   "execution_count": 11,
   "metadata": {},
   "outputs": [
    {
     "data": {
      "text/plain": [
       "array([2., 3., 4., 1., 0., 2., 2., 3., 3., 4., 4., 1., 1., 3., 2., 2., 4.])"
      ]
     },
     "execution_count": 11,
     "metadata": {},
     "output_type": "execute_result"
    }
   ],
   "source": [
    "# 複数の桁にまたがるカウントデータの配列\n",
    "large_counts = [296, 8286, 64011, 80, 3, 725, 867, 2215, 7689, 11495, 91897, \n",
    "                44, 28, 7971, 926, 122, 22222]\n",
    "# 対数変換により指数幅の階級を割り当てる\n",
    "np.floor(np.log10(large_counts))"
   ]
  },
  {
   "cell_type": "markdown",
   "metadata": {},
   "source": [
    "## 例 2-4. Yelp ビジネスレビュー件数の十分位数を計算する"
   ]
  },
  {
   "cell_type": "code",
   "execution_count": 12,
   "metadata": {},
   "outputs": [
    {
     "data": {
      "text/plain": [
       "0.1     3.0\n",
       "0.2     3.0\n",
       "0.3     4.0\n",
       "0.4     5.0\n",
       "0.5     6.0\n",
       "0.6     8.0\n",
       "0.7    12.0\n",
       "0.8    23.0\n",
       "0.9    50.0\n",
       "Name: review_count, dtype: float64"
      ]
     },
     "execution_count": 12,
     "metadata": {},
     "output_type": "execute_result"
    }
   ],
   "source": [
    "deciles = biz_df[\"review_count\"].quantile([.1, .2, .3, .4, .5, .6, .7, .8, .9])\n",
    "deciles"
   ]
  },
  {
   "cell_type": "code",
   "execution_count": 13,
   "metadata": {},
   "outputs": [
    {
     "data": {
      "text/plain": [
       "Text(0, 0.5, 'Occurrence')"
      ]
     },
     "execution_count": 13,
     "metadata": {},
     "output_type": "execute_result"
    },
    {
     "data": {
      "image/png": "[encoded data removed]",
      "text/plain": [
       "<Figure size 432x288 with 1 Axes>"
      ]
     },
     "metadata": {},
     "output_type": "display_data"
    }
   ],
   "source": [
    "# ヒストグラムに十分位数を上書きする\n",
    "sns.set_style(\"whitegrid\")\n",
    "fig, ax = plt.subplots()\n",
    "biz_df[\"review_count\"].hist(ax=ax, bins=100)\n",
    "for pos in deciles:\n",
    "    handle = plt.axvline(pos, color=\"r\")\n",
    "ax.legend([handle], [\"deciles\"], fontsize=14)\n",
    "ax.set_yscale(\"log\")\n",
    "ax.set_xscale(\"log\")\n",
    "ax.tick_params(labelsize=14)\n",
    "ax.set_xlabel('Review Count', fontsize=14)\n",
    "ax.set_ylabel('Occurrence', fontsize=14)"
   ]
  },
  {
   "cell_type": "markdown",
   "metadata": {},
   "source": [
    "## 例 2-5. 分位数によるカウントの離散化"
   ]
  },
  {
   "cell_type": "code",
   "execution_count": 14,
   "metadata": {},
   "outputs": [
    {
     "data": {
      "text/plain": [
       "array([1, 2, 3, 0, 0, 1, 1, 2, 2, 3, 3, 0, 0, 2, 1, 0, 3])"
      ]
     },
     "execution_count": 14,
     "metadata": {},
     "output_type": "execute_result"
    }
   ],
   "source": [
    "# 例2-3の large_count を引き続き使う\n",
    "import pandas as pd\n",
    "\n",
    "# 四分位数に変換\n",
    "pd.qcut(large_counts, 4, labels=False)"
   ]
  },
  {
   "cell_type": "code",
   "execution_count": 15,
   "metadata": {},
   "outputs": [
    {
     "data": {
      "text/plain": [
       "0.25     122.0\n",
       "0.50     926.0\n",
       "0.75    8286.0\n",
       "dtype: float64"
      ]
     },
     "execution_count": 15,
     "metadata": {},
     "output_type": "execute_result"
    }
   ],
   "source": [
    "# 分位数の計算\n",
    "large_counts_series = pd.Series(large_counts)\n",
    "large_counts_series.quantile([0.25, 0.5, 0.75])"
   ]
  },
  {
   "cell_type": "markdown",
   "metadata": {},
   "source": [
    "## 例 2-6. 対数変換の前後でレビュー件数のヒストグラムを比較する"
   ]
  },
  {
   "cell_type": "code",
   "execution_count": 16,
   "metadata": {},
   "outputs": [
    {
     "data": {
      "text/plain": [
       "Text(0, 0.5, 'Occurrence')"
      ]
     },
     "execution_count": 16,
     "metadata": {},
     "output_type": "execute_result"
    },
    {
     "data": {
      "image/png": "[encoded data removed]",
      "text/plain": [
       "<Figure size 432x288 with 2 Axes>"
      ]
     },
     "metadata": {},
     "output_type": "display_data"
    }
   ],
   "source": [
    "import numpy as np\n",
    "\n",
    "# 例2-2で読み込んだ Yelp データセットの\n",
    "# データフレーム biz_df を使用して、レビュー件数を対数変換する。\n",
    "# レビュー件数 0 を対数変換してマイナス無限大になるのを防ぐために\n",
    "# 対数変換の前に生データに 1 を加算していることに注意。\n",
    "biz_df['log_review_count'] = np.log10(biz_df['review_count'] + 1)\n",
    "\n",
    "fig, (ax1, ax2) = plt.subplots(2,1)\n",
    "biz_df['review_count'].hist(ax=ax1, bins=100)\n",
    "ax1.tick_params(labelsize=14)\n",
    "ax1.set_xlabel('review_count', fontsize=14)\n",
    "ax1.set_ylabel('Occurrence', fontsize=14)\n",
    "\n",
    "biz_df['log_review_count'].hist(ax=ax2, bins=100)\n",
    "ax2.tick_params(labelsize=14)\n",
    "ax2.set_xlabel('log10(review_count))', fontsize=14)\n",
    "ax2.set_ylabel('Occurrence', fontsize=14)"
   ]
  },
  {
   "cell_type": "code",
   "execution_count": null,
   "metadata": {},
   "outputs": [],
   "source": []
  }
 ],
 "metadata": {
  "kernelspec": {
   "display_name": "Python 3",
   "language": "python",
   "name": "python3"
  },
  "language_info": {
   "codemirror_mode": {
    "name": "ipython",
    "version": 3
   },
   "file_extension": ".py",
   "mimetype": "text/x-python",
   "name": "python",
   "nbconvert_exporter": "python",
   "pygments_lexer": "ipython3",
   "version": "3.7.0"
  }
 },
 "nbformat": 4,
 "nbformat_minor": 2
}
