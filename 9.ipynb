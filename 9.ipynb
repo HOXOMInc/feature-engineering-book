{
 "cells": [
  {
   "cell_type": "markdown",
   "metadata": {},
   "source": [
    "## 例9-1. インボート + データ絞り込み"
   ]
  },
  {
   "cell_type": "code",
   "execution_count": 1,
   "metadata": {},
   "outputs": [
    {
     "data": {
      "text/plain": [
       "(20000, 19)"
      ]
     },
     "execution_count": 1,
     "metadata": {},
     "output_type": "execute_result"
    }
   ],
   "source": [
    "import pandas as pd\n",
    "\n",
    "# 本文とは異なり、オリジナルデータから20000件のデータを取り出し\n",
    "model_df = pd.read_json('data/mag_papers/mag_papers_0.txt', lines=True)\n",
    "model_df = model_df.head(20000)\n",
    "\n",
    "model_df.shape"
   ]
  },
  {
   "cell_type": "code",
   "execution_count": 2,
   "metadata": {},
   "outputs": [
    {
     "data": {
      "text/plain": [
       "(10399, 6)"
      ]
     },
     "execution_count": 2,
     "metadata": {},
     "output_type": "execute_result"
    }
   ],
   "source": [
    "# 英語でない文献の除去および変数の絞り込み\n",
    "model_df = model_df[model_df.lang == 'en']\\\n",
    "    .drop_duplicates(subset = 'title', keep = 'first')\\\n",
    "    .drop(['doc_type', 'doi', 'id', 'issue', 'lang', 'n_citation', 'page_end', 'page_start', 'publisher', \n",
    "              'references', 'url', 'venue', 'volume'], axis=1)\n",
    "\n",
    "model_df.shape"
   ]
  },
  {
   "cell_type": "markdown",
   "metadata": {},
   "source": [
    "## 例9-2. 協調フィルタリングステージ１: アイテム, 特徴配列の構築"
   ]
  },
  {
   "cell_type": "code",
   "execution_count": 5,
   "metadata": {},
   "outputs": [
    {
     "name": "stdout",
     "output_type": "stream",
     "text": [
      "Size of first feature array:  3787893471\n"
     ]
    }
   ],
   "source": [
    "# 本の記述と異なりますが、こちらの方が高速に動作するコードとなっています。\n",
    "\n",
    "def feature_array(x):\n",
    "    df_list = [pd.DataFrame([[1] * len(val)], columns=val, index=[index])\n",
    "                  if isinstance(val, list) else pd.DataFrame(index=[index])\n",
    "                  for val, index in zip(x.values, x.index)]\n",
    "    \n",
    "    feature_df = pd.concat(df_list, axis=1, sort=True)\n",
    "    return feature_df.fillna(0)\n",
    "\n",
    "year_features = pd.get_dummies(model_df[\"year\"].astype('category'))\n",
    "fos_features = feature_array(model_df['fos'])\n",
    "first_features = fos_features.join(year_features).T\n",
    "\n",
    "from sys import getsizeof\n",
    "print('Size of first feature array: ', getsizeof(first_features))"
   ]
  },
  {
   "cell_type": "markdown",
   "metadata": {},
   "source": [
    "## 例9-3. 協調フィルタリングステージ2: 類似アイテムの探索"
   ]
  },
  {
   "cell_type": "code",
   "execution_count": 6,
   "metadata": {},
   "outputs": [
    {
     "data": {
      "text/html": [
       "<div>\n",
       "<style scoped>\n",
       "    .dataframe tbody tr th:only-of-type {\n",
       "        vertical-align: middle;\n",
       "    }\n",
       "\n",
       "    .dataframe tbody tr th {\n",
       "        vertical-align: top;\n",
       "    }\n",
       "\n",
       "    .dataframe thead th {\n",
       "        text-align: right;\n",
       "    }\n",
       "</style>\n",
       "<table border=\"1\" class=\"dataframe\">\n",
       "  <thead>\n",
       "    <tr style=\"text-align: right;\">\n",
       "      <th></th>\n",
       "      <th>0</th>\n",
       "      <th>1</th>\n",
       "      <th>2</th>\n",
       "      <th>5</th>\n",
       "      <th>7</th>\n",
       "      <th>8</th>\n",
       "      <th>9</th>\n",
       "      <th>10</th>\n",
       "      <th>11</th>\n",
       "      <th>12</th>\n",
       "      <th>...</th>\n",
       "      <th>986</th>\n",
       "      <th>988</th>\n",
       "      <th>990</th>\n",
       "      <th>992</th>\n",
       "      <th>993</th>\n",
       "      <th>994</th>\n",
       "      <th>995</th>\n",
       "      <th>996</th>\n",
       "      <th>998</th>\n",
       "      <th>1000</th>\n",
       "    </tr>\n",
       "  </thead>\n",
       "  <tbody>\n",
       "    <tr>\n",
       "      <th>0</th>\n",
       "      <td>1.000000</td>\n",
       "      <td>0.0</td>\n",
       "      <td>0.447214</td>\n",
       "      <td>0.0</td>\n",
       "      <td>0.0</td>\n",
       "      <td>0.0</td>\n",
       "      <td>0.0</td>\n",
       "      <td>0.0</td>\n",
       "      <td>0.0</td>\n",
       "      <td>0.0</td>\n",
       "      <td>...</td>\n",
       "      <td>0.0</td>\n",
       "      <td>0.0</td>\n",
       "      <td>0.0</td>\n",
       "      <td>0.0</td>\n",
       "      <td>0.0</td>\n",
       "      <td>0.0</td>\n",
       "      <td>0.0</td>\n",
       "      <td>0.0</td>\n",
       "      <td>0.0</td>\n",
       "      <td>0.0</td>\n",
       "    </tr>\n",
       "    <tr>\n",
       "      <th>1</th>\n",
       "      <td>0.000000</td>\n",
       "      <td>1.0</td>\n",
       "      <td>0.000000</td>\n",
       "      <td>0.0</td>\n",
       "      <td>0.0</td>\n",
       "      <td>0.0</td>\n",
       "      <td>0.0</td>\n",
       "      <td>0.0</td>\n",
       "      <td>0.0</td>\n",
       "      <td>0.0</td>\n",
       "      <td>...</td>\n",
       "      <td>0.0</td>\n",
       "      <td>0.0</td>\n",
       "      <td>0.0</td>\n",
       "      <td>0.0</td>\n",
       "      <td>0.0</td>\n",
       "      <td>0.0</td>\n",
       "      <td>0.0</td>\n",
       "      <td>0.0</td>\n",
       "      <td>0.0</td>\n",
       "      <td>0.0</td>\n",
       "    </tr>\n",
       "    <tr>\n",
       "      <th>2</th>\n",
       "      <td>0.447214</td>\n",
       "      <td>0.0</td>\n",
       "      <td>1.000000</td>\n",
       "      <td>0.0</td>\n",
       "      <td>0.0</td>\n",
       "      <td>0.0</td>\n",
       "      <td>0.0</td>\n",
       "      <td>0.0</td>\n",
       "      <td>0.0</td>\n",
       "      <td>0.0</td>\n",
       "      <td>...</td>\n",
       "      <td>0.0</td>\n",
       "      <td>0.0</td>\n",
       "      <td>0.0</td>\n",
       "      <td>0.0</td>\n",
       "      <td>0.0</td>\n",
       "      <td>0.0</td>\n",
       "      <td>0.0</td>\n",
       "      <td>0.0</td>\n",
       "      <td>0.0</td>\n",
       "      <td>0.0</td>\n",
       "    </tr>\n",
       "    <tr>\n",
       "      <th>5</th>\n",
       "      <td>0.000000</td>\n",
       "      <td>0.0</td>\n",
       "      <td>0.000000</td>\n",
       "      <td>1.0</td>\n",
       "      <td>0.0</td>\n",
       "      <td>0.0</td>\n",
       "      <td>0.0</td>\n",
       "      <td>0.0</td>\n",
       "      <td>0.0</td>\n",
       "      <td>0.0</td>\n",
       "      <td>...</td>\n",
       "      <td>0.0</td>\n",
       "      <td>0.0</td>\n",
       "      <td>0.0</td>\n",
       "      <td>0.0</td>\n",
       "      <td>0.0</td>\n",
       "      <td>0.0</td>\n",
       "      <td>0.0</td>\n",
       "      <td>0.0</td>\n",
       "      <td>0.0</td>\n",
       "      <td>0.0</td>\n",
       "    </tr>\n",
       "    <tr>\n",
       "      <th>7</th>\n",
       "      <td>0.000000</td>\n",
       "      <td>0.0</td>\n",
       "      <td>0.000000</td>\n",
       "      <td>0.0</td>\n",
       "      <td>1.0</td>\n",
       "      <td>0.0</td>\n",
       "      <td>0.0</td>\n",
       "      <td>0.0</td>\n",
       "      <td>0.0</td>\n",
       "      <td>0.0</td>\n",
       "      <td>...</td>\n",
       "      <td>0.0</td>\n",
       "      <td>0.0</td>\n",
       "      <td>0.0</td>\n",
       "      <td>0.0</td>\n",
       "      <td>0.0</td>\n",
       "      <td>0.0</td>\n",
       "      <td>0.0</td>\n",
       "      <td>0.0</td>\n",
       "      <td>0.0</td>\n",
       "      <td>0.0</td>\n",
       "    </tr>\n",
       "  </tbody>\n",
       "</table>\n",
       "<p>5 rows × 515 columns</p>\n",
       "</div>"
      ],
      "text/plain": [
       "       0     1         2     5     7     8     9     10    11    12    ...   \\\n",
       "0  1.000000   0.0  0.447214   0.0   0.0   0.0   0.0   0.0   0.0   0.0  ...    \n",
       "1  0.000000   1.0  0.000000   0.0   0.0   0.0   0.0   0.0   0.0   0.0  ...    \n",
       "2  0.447214   0.0  1.000000   0.0   0.0   0.0   0.0   0.0   0.0   0.0  ...    \n",
       "5  0.000000   0.0  0.000000   1.0   0.0   0.0   0.0   0.0   0.0   0.0  ...    \n",
       "7  0.000000   0.0  0.000000   0.0   1.0   0.0   0.0   0.0   0.0   0.0  ...    \n",
       "\n",
       "   986   988   990   992   993   994   995   996   998   1000  \n",
       "0   0.0   0.0   0.0   0.0   0.0   0.0   0.0   0.0   0.0   0.0  \n",
       "1   0.0   0.0   0.0   0.0   0.0   0.0   0.0   0.0   0.0   0.0  \n",
       "2   0.0   0.0   0.0   0.0   0.0   0.0   0.0   0.0   0.0   0.0  \n",
       "5   0.0   0.0   0.0   0.0   0.0   0.0   0.0   0.0   0.0   0.0  \n",
       "7   0.0   0.0   0.0   0.0   0.0   0.0   0.0   0.0   0.0   0.0  \n",
       "\n",
       "[5 rows x 515 columns]"
      ]
     },
     "execution_count": 6,
     "metadata": {},
     "output_type": "execute_result"
    }
   ],
   "source": [
    "from scipy.spatial.distance import cosine\n",
    "\n",
    "# 本の記述と異なりますが、こちらの方が簡潔なコードとなっています。\n",
    "def item_collab_filter(features_df):\n",
    "    return pd.DataFrame([[1 - cosine(col_val1, col_val2)\n",
    "                                     for col_val1 in features_df.T.values] for col_val2 in features_df.T.values],\n",
    "                                     index = features_df.columns, columns = features_df.columns)\n",
    "\n",
    "first_items = item_collab_filter(first_features.loc[:, 0:1000])\n",
    "\n",
    "first_items.head()"
   ]
  },
  {
   "cell_type": "markdown",
   "metadata": {},
   "source": [
    "## 例9-4. ヒートマップによる類似論文の探索"
   ]
  },
  {
   "cell_type": "code",
   "execution_count": 7,
   "metadata": {},
   "outputs": [
    {
     "data": {
      "image/png": "[encoded data removed]",
      "text/plain": [
       "<Figure size 432x288 with 2 Axes>"
      ]
     },
     "metadata": {},
     "output_type": "display_data"
    }
   ],
   "source": [
    "%matplotlib inline\n",
    "import matplotlib.pyplot as plt\n",
    "import seaborn as sns\n",
    "import numpy as np\n",
    "\n",
    "sns.set()\n",
    "ax = sns.heatmap(first_items.fillna(0), \n",
    "                 vmin=0, vmax=1, \n",
    "                 cmap=\"YlGnBu\", \n",
    "                 xticklabels=250, yticklabels=250)\n",
    "ax.tick_params(labelsize=12)"
   ]
  },
  {
   "cell_type": "markdown",
   "metadata": {},
   "source": [
    "## 例9-5. アイテムベース協調フィルタリングによる類似論文のレコメンド"
   ]
  },
  {
   "cell_type": "code",
   "execution_count": 8,
   "metadata": {},
   "outputs": [
    {
     "name": "stdout",
     "output_type": "stream",
     "text": [
      "Based on the paper: \n",
      "index =  2\n",
      "abstract                                                  NaN\n",
      "authors     [{'name': 'Jovana P. Lekovich', 'org': 'Weill ...\n",
      "fos                                                       NaN\n",
      "keywords                                                  NaN\n",
      "title       Should endometriosis be an indication for intr...\n",
      "year                                                     2015\n",
      "Name: 2, dtype: object\n",
      "\n",
      "Top three results: \n",
      "1 . Paper index =  2\n",
      "Similarity score:  1.0\n",
      "abstract                                                  NaN\n",
      "authors     [{'name': 'Jovana P. Lekovich', 'org': 'Weill ...\n",
      "fos                                                       NaN\n",
      "keywords                                                  NaN\n",
      "title       Should endometriosis be an indication for intr...\n",
      "year                                                     2015\n",
      "Name: 2, dtype: object \n",
      "\n",
      "2 . Paper index =  292\n",
      "Similarity score:  1.0\n",
      "abstract                                                  NaN\n",
      "authors     [{'name': 'John C. Newton'}, {'name': 'Beers M...\n",
      "fos         [Wide area multilateration, Maneuvering speed,...\n",
      "keywords                                                  NaN\n",
      "title                    Automatic speed control for aircraft\n",
      "year                                                     1955\n",
      "Name: 561, dtype: object \n",
      "\n",
      "3 . Paper index =  593\n",
      "Similarity score:  1.0\n",
      "abstract    This paper demonstrates that on‐site greywater...\n",
      "authors     [{'name': 'Eran Friedler', 'org': 'Division of...\n",
      "fos         [Public opinion, Environmental Engineering, Wa...\n",
      "keywords    [economic analysis, tratamiento desperdicios, ...\n",
      "title       The water saving potential and the socio-econo...\n",
      "year                                                     2008\n",
      "Name: 1152, dtype: object \n",
      "\n"
     ]
    }
   ],
   "source": [
    "def paper_recommender(paper_ix, items_df):\n",
    "    print('Based on the paper: \\nindex = ', paper_ix)\n",
    "    print(model_df.iloc[paper_ix])\n",
    "    top_results = items_df.loc[paper_ix].sort_values(ascending=False).head(4)\n",
    "    print('\\nTop three results: ')\n",
    "    order = 1\n",
    "    for i in top_results.index.tolist()[-3:]:\n",
    "        print(order,'. Paper index = ', i)\n",
    "        print('Similarity score: ', top_results[i])\n",
    "        print(model_df.iloc[i], '\\n')\n",
    "        if order < 5: order += 1\n",
    "            \n",
    "paper_recommender(2, first_items)"
   ]
  },
  {
   "cell_type": "markdown",
   "metadata": {},
   "source": [
    "## 例9-6. 固定幅のビン分割とダミーコーディング"
   ]
  },
  {
   "cell_type": "code",
   "execution_count": 9,
   "metadata": {},
   "outputs": [
    {
     "name": "stdout",
     "output_type": "stream",
     "text": [
      "Year spread:  1831  -  2017\n",
      "Quantile spread:\n",
      " 0.25    1990.0\n",
      "0.50    2005.0\n",
      "0.75    2012.0\n",
      "Name: year, dtype: float64\n"
     ]
    },
    {
     "data": {
      "text/plain": [
       "IntervalIndex([(1831.0, 1841.0], (1841.0, 1851.0], (1851.0, 1860.0], (1860.0, 1870.0], (1870.0, 1880.0] ... (1968.0, 1978.0], (1978.0, 1988.0], (1988.0, 1997.0], (1997.0, 2007.0], (2007.0, 2017.0]]\n",
       "              closed='right',\n",
       "              dtype='interval[float64]')"
      ]
     },
     "execution_count": 9,
     "metadata": {},
     "output_type": "execute_result"
    },
    {
     "data": {
      "image/png": "[encoded data removed]",
      "text/plain": [
       "<Figure size 432x288 with 1 Axes>"
      ]
     },
     "metadata": {
      "needs_background": "light"
     },
     "output_type": "display_data"
    }
   ],
   "source": [
    "year_min = model_df['year'].min()\n",
    "year_max = model_df['year'].max()\n",
    "\n",
    "print(\"Year spread: \", year_min,\" - \", year_max)\n",
    "print(\"Quantile spread:\\n\", model_df['year'].quantile([0.25, 0.5, 0.75]))\n",
    "\n",
    "# 分布を確認するために出版年をプロットする\n",
    "fig, ax = plt.subplots()\n",
    "model_df['year'].hist(ax=ax, bins= year_max - year_min)\n",
    "ax.tick_params(labelsize=12)\n",
    "ax.set_xlabel('Year Count', fontsize=12)\n",
    "ax.set_ylabel('Occurrence', fontsize=12)\n"
   ]
  },
  {
   "cell_type": "markdown",
   "metadata": {},
   "source": [
    "## 例9-7. 固定幅のビン分割とダミーコーディング: part2"
   ]
  },
  {
   "cell_type": "code",
   "execution_count": 10,
   "metadata": {},
   "outputs": [
    {
     "data": {
      "text/plain": [
       "IntervalIndex([(1831.0, 1841.0], (1841.0, 1851.0], (1851.0, 1860.0], (1860.0, 1870.0], (1870.0, 1880.0] ... (1968.0, 1978.0], (1978.0, 1988.0], (1988.0, 1997.0], (1997.0, 2007.0], (2007.0, 2017.0]]\n",
       "              closed='right',\n",
       "              dtype='interval[float64]')"
      ]
     },
     "execution_count": 10,
     "metadata": {},
     "output_type": "execute_result"
    }
   ],
   "source": [
    "# ビンの幅を10年区切りに修正し、特徴空間を156から19に削減\n",
    "bins = int(round((year_max - year_min) / 10))\n",
    "\n",
    "temp_df = pd.DataFrame(index = model_df.index)\n",
    "temp_df['yearBinned'] = pd.cut(model_df['year'].tolist(), bins, precision = 0)\n",
    "\n",
    "X_yrs = pd.get_dummies(temp_df['yearBinned'])\n",
    "X_yrs.columns.categories"
   ]
  },
  {
   "cell_type": "code",
   "execution_count": 11,
   "metadata": {},
   "outputs": [
    {
     "data": {
      "text/plain": [
       "Text(0, 0.5, 'Counts')"
      ]
     },
     "execution_count": 11,
     "metadata": {},
     "output_type": "execute_result"
    },
    {
     "data": {
      "image/png": "[encoded data removed]",
      "text/plain": [
       "<Figure size 432x288 with 1 Axes>"
      ]
     },
     "metadata": {
      "needs_background": "light"
     },
     "output_type": "display_data"
    }
   ],
   "source": [
    "# 新しい分布をプロットする\n",
    "fig, ax = plt.subplots()\n",
    "X_yrs.sum().plot.bar(ax = ax)\n",
    "ax.tick_params(labelsize=8)\n",
    "ax.set_xlabel('Binned Years', fontsize=12)\n",
    "ax.set_ylabel('Counts', fontsize=12)"
   ]
  },
  {
   "cell_type": "markdown",
   "metadata": {},
   "source": [
    "## 例9-8. 「bag-of-phrases」データをpd.SeriesからNumPy sparse arrayに変更"
   ]
  },
  {
   "cell_type": "code",
   "execution_count": 12,
   "metadata": {},
   "outputs": [
    {
     "name": "stdout",
     "output_type": "stream",
     "text": [
      "Our pandas Series, in bytes:  3772086600\n",
      "Our hashed numpy array, in bytes:  112\n"
     ]
    }
   ],
   "source": [
    "X_fos = fos_features.values\n",
    "\n",
    "print('Our pandas Series, in bytes: ', getsizeof(fos_features))\n",
    "print('Our hashed numpy array, in bytes: ', getsizeof(X_fos))"
   ]
  },
  {
   "cell_type": "markdown",
   "metadata": {},
   "source": [
    "## 例9-9. 協調フィルタリング stage1 + 2: 類似アイテム検索のためのアイテム特徴量行列作成"
   ]
  },
  {
   "cell_type": "code",
   "execution_count": 13,
   "metadata": {},
   "outputs": [
    {
     "name": "stdout",
     "output_type": "stream",
     "text": [
      "The power of feature engineering saves us, in bytes:  14637007\n"
     ]
    }
   ],
   "source": [
    "second_features = np.append(X_fos, X_yrs, axis = 1)\n",
    "\n",
    "print(\"The power of feature engineering saves us, in bytes: \",\n",
    "         getsizeof(first_features) - getsizeof(second_features))\n",
    "\n",
    "from sklearn.metrics.pairwise import cosine_similarity\n",
    "\n",
    "def piped_collab_filter(features_matrix, index, top_n):\n",
    "    item_similarities = \\\n",
    "        1 - cosine_similarity(features_matrix[index:index+1],\n",
    "                              features_matrix).flatten()\n",
    "    related_indices = \\\n",
    "        [i for i in item_similarities.argsort()[::-1] if i != index]\n",
    "    return [(index, item_similarities[index]) for index in related_indices][0:top_n]"
   ]
  },
  {
   "cell_type": "markdown",
   "metadata": {},
   "source": [
    "## 例9-10. アイテムベース協調フィルタリングによる類似論文のレコメンド Take2"
   ]
  },
  {
   "cell_type": "code",
   "execution_count": 14,
   "metadata": {},
   "outputs": [
    {
     "name": "stdout",
     "output_type": "stream",
     "text": [
      "Based on the paper:\n",
      "Paper index =  2\n",
      "Title : Should endometriosis be an indication for intracytoplasmic sperm injection (ICSI) in fresh IVF cycles\n",
      "FOS : nan\n",
      "Year : 2015\n",
      "Abstract : nan\n",
      "Authors : [{'name': 'Jovana P. Lekovich', 'org': 'Weill Cornell Medical College, New York, NY'}, {'name': 'G.D. Palermo', 'org': 'Weill Medical College of Cornell University, New York, NY'}, {'name': 'Nigel Pereira', 'org': 'The Ronald O. Perelman and Claudia Cohen Center, New York, NY'}, {'name': 'Zev Rosenwaks', 'org': 'Weill Cornell Medical College, New York, NY'}] \n",
      "\n",
      "\n",
      "Top 3 results: \n",
      "1 . Paper index =  10055\n",
      "Similarity score:  1.0\n",
      "Title : [Diagnosis of cerebral tumors; comparative studies on arteriography, ventriculography and electroencephalography].\n",
      "FOS : ['Radiology', 'Pathology', 'Surgery']\n",
      "Year : 1953\n",
      "Abstract : nan\n",
      "Authors : [{'name': 'Antoine'}, {'name': 'Lepoire'}, {'name': 'Schoumacker'}] \n",
      "\n",
      "2 . Paper index =  11771\n",
      "Similarity score:  1.0\n",
      "Title : A Study of Special Functions in the Theory of Eclipsing Binary Systems\n",
      "FOS : ['Contact binary']\n",
      "Year : 1981\n",
      "Abstract : nan\n",
      "Authors : [{'name': 'Filaretti Zafiropoulos', 'org': 'University of Manchester'}] \n",
      "\n",
      "3 . Paper index =  11773\n",
      "Similarity score:  1.0\n",
      "Title : Studies of powder flow using a recording powder flowmeter and measurement of the dynamic angle of repose\n",
      "FOS : nan\n",
      "Year : 1985\n",
      "Abstract : This paper describes the utility of the dynamic measurement of the angle of repose for pharmaceutical systems, using a variable rotating cylinder to quantify powder flow. The dynamic angle of repose of sodium chloride powder sieve fractions was evaluated using a variable rotating cylinder. The relationship between the static and the dynamic angle of repose is discussed. The dynamic angle of repose of six lots of a multivitamin preparation were compared for inter- and intralot variation. In both cases, no significant differences (p> 0.05) were observed. In the multivitamin formulation, lubricants at lower concentration levels did not show a significant effect (p> 0.05) on the dynamic angle of repose when compared with flow rates. The effect of different hopper sizes and geometry has been evaluated using the recording powder flowmeter. The results indicate that although different hoppers affect the quantitative nature of the results, the same general trends are apparent. Thus, it appears possible to use a recording powder flowmeter with small quantities of material to predict the effect of formulation and processing variables on the flow of production scale quantities. This paper does not describe a comprehensive evaluation of the pharmaceutical utility of measuring the dynamic angle of repose. However, the results discussed are not encouraging and suggest that the recording powder flowmeter is more sensitive to the effects of formulation and production variables on powder flow.\n",
      "Authors : [{'name': 'Ramachandra P. Hegde', 'org': 'Department of Pharmacy, University of Rhode Island, Kingston, RI 02881'}, {'name': 'J.L. Rheingold', 'org': 'Formulation Research, Lederle Laboratories, Pearl River, NY 10965'}, {'name': 'S. Welch', 'org': 'Formulation Research, Lederle Laboratories, Pearl River, NY 10965'}, {'name': 'C. T. Rhodes', 'org': 'Department of Pharmacy, University of Rhode Island, Kingston, RI 02881|||Department of Pharmacy, University of Rhode Island, Kingston, RI 02881'}] \n",
      "\n"
     ]
    }
   ],
   "source": [
    "def paper_recommender(items_df, paper_ix, top_n):\n",
    "    if paper_ix in model_df.index:\n",
    "        print('Based on the paper:')\n",
    "        print('Paper index = ', model_df.loc[paper_ix].name)\n",
    "        print('Title :', model_df.loc[paper_ix]['title'])\n",
    "        print('FOS :', model_df.loc[paper_ix]['fos'])\n",
    "        print('Year :', model_df.loc[paper_ix]['year'])\n",
    "        print('Abstract :', model_df.loc[paper_ix]['abstract'])\n",
    "        print('Authors :', model_df.loc[paper_ix]['authors'], '\\n')\n",
    "\n",
    "        array_ix = model_df.index.get_loc(paper_ix)\n",
    "        top_results = piped_collab_filter(items_df, array_ix, top_n)\n",
    "        print('\\nTop',top_n,'results: ')\n",
    "\n",
    "        order = 1\n",
    "        for i in range(len(top_results)):\n",
    "            print(order,'. Paper index = ', model_df.iloc[top_results[i][0]].name)\n",
    "            print('Similarity score: ', top_results[i][1])\n",
    "            print('Title :', model_df.iloc[top_results[i][0]]['title'])\n",
    "            print('FOS :', model_df.iloc[top_results[i][0]]['fos'])\n",
    "            print('Year :', model_df.iloc[top_results[i][0]]['year'])\n",
    "            print('Abstract :', model_df.iloc[top_results[i][0]]['abstract'])\n",
    "            print('Authors :', model_df.iloc[top_results[i][0]]['authors'], '\\n')\n",
    "            if order < top_n: order += 1\n",
    "                    \n",
    "    else:\n",
    "        print('Whoops! Choose another paper. Try something from here: \\n', model_df.index[100:200])\n",
    "\n",
    "paper_recommender(second_features, 2, 3)"
   ]
  },
  {
   "cell_type": "markdown",
   "metadata": {},
   "source": [
    "## 例9-11. loc, iloc, get_locの使い分け(explain_loc_iloc_get_loc.ipynbにより詳しいサンプルコードを追加)"
   ]
  },
  {
   "cell_type": "code",
   "execution_count": 15,
   "metadata": {},
   "outputs": [
    {
     "data": {
      "text/plain": [
       "abstract    A microprocessor includes hardware registers t...\n",
       "authors                      [{'name': 'Mark John Ebersole'}]\n",
       "fos         [Embedded system, Parallel computing, Computer...\n",
       "keywords                                                  NaN\n",
       "title       Microprocessor that enables ARM ISA program to...\n",
       "year                                                     2013\n",
       "Name: 21, dtype: object"
      ]
     },
     "execution_count": 15,
     "metadata": {},
     "output_type": "execute_result"
    }
   ],
   "source": [
    "model_df.loc[21]"
   ]
  },
  {
   "cell_type": "code",
   "execution_count": 16,
   "metadata": {},
   "outputs": [
    {
     "data": {
      "text/plain": [
       "abstract                                                  NaN\n",
       "authors     [{'name': 'Nicola M. Heller'}, {'name': 'Steph...\n",
       "fos         [Biology, Medicine, Post-transcriptional regul...\n",
       "keywords    [glucocorticoids, post transcriptional regulat...\n",
       "title       Post-transcriptional regulation of eotaxin by ...\n",
       "year                                                     2002\n",
       "Name: 30, dtype: object"
      ]
     },
     "execution_count": 16,
     "metadata": {},
     "output_type": "execute_result"
    }
   ],
   "source": [
    "model_df.iloc[21]"
   ]
  },
  {
   "cell_type": "code",
   "execution_count": 17,
   "metadata": {},
   "outputs": [
    {
     "data": {
      "text/plain": [
       "21"
      ]
     },
     "execution_count": 17,
     "metadata": {},
     "output_type": "execute_result"
    }
   ],
   "source": [
    "model_df.index.get_loc(30)"
   ]
  },
  {
   "cell_type": "markdown",
   "metadata": {},
   "source": [
    "## 例9-12. ストップワード + TF-IDF"
   ]
  },
  {
   "cell_type": "code",
   "execution_count": 18,
   "metadata": {},
   "outputs": [],
   "source": [
    "filled_df = model_df.fillna('None')\n",
    "\n",
    "from sklearn.feature_extraction.text import TfidfVectorizer\n",
    "\n",
    "vectorizer = TfidfVectorizer(sublinear_tf=True, max_df=0.5, stop_words='english')\n",
    "X_abstract = vectorizer.fit_transform(filled_df['abstract'])\n",
    "\n",
    "third_features = np.append(second_features, X_abstract.toarray(), axis = 1)"
   ]
  },
  {
   "cell_type": "markdown",
   "metadata": {},
   "source": [
    "## 例9-13. scikit-learnのDictVectorizerをつかったOne-Hotエンコーディング"
   ]
  },
  {
   "cell_type": "code",
   "execution_count": 19,
   "metadata": {},
   "outputs": [
    {
     "data": {
      "text/plain": [
       "[{'None': 0},\n",
       " {'Ahmed M. Alluwaimi': 1},\n",
       " {'Jovana P. Lekovich': 2, 'Weill Cornell Medical College, New York, NY': 2},\n",
       " {'George C. Sponsler': 5},\n",
       " {'M. T. Richards': 7}]"
      ]
     },
     "execution_count": 19,
     "metadata": {},
     "output_type": "execute_result"
    }
   ],
   "source": [
    "authors_list = []\n",
    "\n",
    "for row in filled_df.itertuples():\n",
    "    # それぞれのSeriesインデックスからdict型オブジェクトを作成する\n",
    "    if isinstance(row.authors, str):\n",
    "        y = {'None': row.Index}\n",
    "    if isinstance(row.authors, list):\n",
    "        # これらのキー、値をdict型オブジェクトに追加する\n",
    "        y = dict.fromkeys(row.authors[0].values(), row.Index)\n",
    "    authors_list.append(y)\n",
    "\n",
    "authors_list[0:5]"
   ]
  },
  {
   "cell_type": "code",
   "execution_count": 20,
   "metadata": {},
   "outputs": [],
   "source": [
    "from sklearn.feature_extraction import DictVectorizer\n",
    "v = DictVectorizer(sparse=False)\n",
    "D = authors_list\n",
    "X_authors = v.fit_transform(D)\n",
    "fourth_features = np.append(third_features, X_authors, axis=1)"
   ]
  },
  {
   "cell_type": "markdown",
   "metadata": {},
   "source": [
    "## 例9-14. アイテムベース協調フィルタリングによる類似論文のレコメンド Take3"
   ]
  },
  {
   "cell_type": "code",
   "execution_count": 21,
   "metadata": {},
   "outputs": [
    {
     "name": "stdout",
     "output_type": "stream",
     "text": [
      "Based on the paper:\n",
      "Paper index =  2\n",
      "Title : Should endometriosis be an indication for intracytoplasmic sperm injection (ICSI) in fresh IVF cycles\n",
      "FOS : nan\n",
      "Year : 2015\n",
      "Abstract : nan\n",
      "Authors : [{'name': 'Jovana P. Lekovich', 'org': 'Weill Cornell Medical College, New York, NY'}, {'name': 'G.D. Palermo', 'org': 'Weill Medical College of Cornell University, New York, NY'}, {'name': 'Nigel Pereira', 'org': 'The Ronald O. Perelman and Claudia Cohen Center, New York, NY'}, {'name': 'Zev Rosenwaks', 'org': 'Weill Cornell Medical College, New York, NY'}] \n",
      "\n",
      "\n",
      "Top 3 results: \n",
      "1 . Paper index =  10055\n",
      "Similarity score:  1.0\n",
      "Title : [Diagnosis of cerebral tumors; comparative studies on arteriography, ventriculography and electroencephalography].\n",
      "FOS : ['Radiology', 'Pathology', 'Surgery']\n",
      "Year : 1953\n",
      "Abstract : nan\n",
      "Authors : [{'name': 'Antoine'}, {'name': 'Lepoire'}, {'name': 'Schoumacker'}] \n",
      "\n",
      "2 . Paper index =  5601\n",
      "Similarity score:  1.0\n",
      "Title : 633 Survival after coronary revascularization, with and without mitral valve repair, in patients with ischemic mitral regurgitation. Importance of pre-operative myocardial viability\n",
      "FOS : ['Cardiology']\n",
      "Year : 2005\n",
      "Abstract : nan\n",
      "Authors : [{'name': 'J.B. Le Polain De Waroux'}, {'name': 'Anne-Catherine Pouleur'}, {'name': 'B. Beige'}, {'name': 'Agnes Pasquet'}, {'name': 'B. Gerbe'}, {'name': 'B. Noirhomme'}, {'name': 'G. El Khoury'}, {'name': 'Jean Louis Vanoverschelde'}] \n",
      "\n",
      "3 . Paper index =  12256\n",
      "Similarity score:  1.0\n",
      "Title : Nucleotide Sequence and Analysis of an Insertion Sequence from Bacillus thuringiensis Related to IS150\n",
      "FOS : ['Biology', 'Molecular biology', 'Insertion sequence', 'Nucleic acid sequence', 'Bioinformatics', 'Genetics']\n",
      "Year : 1994\n",
      "Abstract : A 5.8-kb DNA fragment encoding the  cryIC  gene from  Bacillus thuringiensis  (Bt) subsp.  aizawai  HD229 was subcloned into the pMex7 vector for expression in  Escherichia coli . In addition to the 135-kDa CryIC δ-endotoxin, this DNA fragment also encoded a 30-kDa polypeptide whose open reading frame ( orfX ) was located less than 200 bp upstream of  cryIC  . Nucleotide sequencing showed that  orfX  was truncated at the 5′ end, and full sequence was obtained from a second overlapping clone. Sequence analysis showed that  orfX  could encode a polypeptide closely related to the putative transposase from IS 150 . OrfX was flanked by a 17-bp imperfect inverted repeat, defining the length of the element as 998 bp. Southern blot analysis revealed that the novel insertion sequence was present in a single copy and located in an identical position immediately upstream of  cryIC  in plasmid DNA from both Bt subsp.  aizawai  and  entomocidus.\n",
      "Authors : [{'name': 'Geoffrey P. Smith'}, {'name': 'David J. Ellar'}, {'name': 'Sharon J. Keeler'}, {'name': 'Cynthia E. Seip'}] \n",
      "\n"
     ]
    }
   ],
   "source": [
    "paper_recommender(fourth_features, 2, 3)"
   ]
  },
  {
   "cell_type": "code",
   "execution_count": null,
   "metadata": {},
   "outputs": [],
   "source": []
  }
 ],
 "metadata": {
  "kernelspec": {
   "display_name": "Python 3",
   "language": "python",
   "name": "python3"
  },
  "language_info": {
   "codemirror_mode": {
    "name": "ipython",
    "version": 3
   },
   "file_extension": ".py",
   "mimetype": "text/x-python",
   "name": "python",
   "nbconvert_exporter": "python",
   "pygments_lexer": "ipython3",
   "version": "3.7.0"
  }
 },
 "nbformat": 4,
 "nbformat_minor": 2
}
